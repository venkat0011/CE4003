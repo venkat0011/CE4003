{
 "cells": [
  {
   "cell_type": "code",
   "execution_count": 1,
   "id": "43e4f4f9",
   "metadata": {
    "execution": {
     "iopub.execute_input": "2022-11-05T02:19:40.893241Z",
     "iopub.status.busy": "2022-11-05T02:19:40.892751Z",
     "iopub.status.idle": "2022-11-05T02:19:45.915997Z",
     "shell.execute_reply": "2022-11-05T02:19:45.915050Z"
    },
    "papermill": {
     "duration": 5.032914,
     "end_time": "2022-11-05T02:19:45.918629",
     "exception": false,
     "start_time": "2022-11-05T02:19:40.885715",
     "status": "completed"
    },
    "tags": []
   },
   "outputs": [],
   "source": [
    "SEED = 42\n",
    "\n",
    "import os\n",
    "os.environ['TF_CUDNN_DETERMINISTIC'] = '1'\n",
    "\n",
    "import random \n",
    "random.seed(SEED)\n",
    "\n",
    "import numpy as np\n",
    "np.random.seed(SEED)\n",
    "\n",
    "import tensorflow as tf\n",
    "tf.random.set_seed(SEED)"
   ]
  },
  {
   "cell_type": "code",
   "execution_count": 2,
   "id": "a717521d",
   "metadata": {
    "execution": {
     "iopub.execute_input": "2022-11-05T02:19:45.929253Z",
     "iopub.status.busy": "2022-11-05T02:19:45.928615Z",
     "iopub.status.idle": "2022-11-05T02:19:46.852819Z",
     "shell.execute_reply": "2022-11-05T02:19:46.851949Z"
    },
    "papermill": {
     "duration": 0.93226,
     "end_time": "2022-11-05T02:19:46.855521",
     "exception": false,
     "start_time": "2022-11-05T02:19:45.923261",
     "status": "completed"
    },
    "tags": []
   },
   "outputs": [],
   "source": [
    "from sklearn.metrics import accuracy_score\n",
    "from sklearn.svm import LinearSVC\n",
    "from sklearn.cluster import KMeans\n",
    "import numpy as np\n",
    "import matplotlib.pyplot as plt\n",
    "from collections import defaultdict\n",
    "import math\n",
    "import copy\n",
    "from sklearn.svm import SVC\n",
    "from sklearn.multiclass import OneVsRestClassifier\n",
    "from sklearn.metrics import accuracy_score\n",
    "from sklearn.svm import LinearSVC\n",
    "from sklearn.preprocessing import StandardScaler\n",
    "from sklearn.pipeline import make_pipeline"
   ]
  },
  {
   "cell_type": "code",
   "execution_count": 3,
   "id": "94d074c5",
   "metadata": {
    "_cell_guid": "b1076dfc-b9ad-4769-8c92-a6c4dae69d19",
    "_uuid": "8f2839f25d086af736a60e9eeb907d3b93b6e0e5",
    "execution": {
     "iopub.execute_input": "2022-11-05T02:19:46.866272Z",
     "iopub.status.busy": "2022-11-05T02:19:46.865368Z",
     "iopub.status.idle": "2022-11-05T02:20:39.594418Z",
     "shell.execute_reply": "2022-11-05T02:20:39.593228Z"
    },
    "papermill": {
     "duration": 52.737104,
     "end_time": "2022-11-05T02:20:39.597052",
     "exception": false,
     "start_time": "2022-11-05T02:19:46.859948",
     "status": "completed"
    },
    "scrolled": true,
    "tags": []
   },
   "outputs": [
    {
     "name": "stdout",
     "output_type": "stream",
     "text": [
      "scorpion\n",
      "hedgehog\n",
      "crocodile_head\n",
      "headphone\n",
      "mandolin\n",
      "ewer\n",
      "stop_sign\n",
      "ant\n",
      "ferry\n",
      "butterfly\n",
      "airplanes\n",
      "ibis\n",
      "lobster\n",
      "buddha\n",
      "yin_yang\n",
      "hawksbill\n",
      "helicopter\n",
      "pigeon\n",
      "snoopy\n",
      "Leopards\n",
      "pagoda\n",
      "Faces\n",
      "cup\n",
      "Faces_easy\n",
      "inline_skate\n",
      "wheelchair\n",
      "wild_cat\n",
      "cougar_body\n",
      "sea_horse\n",
      "emu\n",
      "water_lilly\n",
      "laptop\n",
      "strawberry\n",
      "bass\n",
      "platypus\n",
      "metronome\n",
      "ketch\n",
      "grand_piano\n",
      "lamp\n",
      "gramophone\n",
      "kangaroo\n",
      "starfish\n",
      "dalmatian\n",
      "bonsai\n",
      "wrench\n",
      "flamingo_head\n",
      "umbrella\n",
      "stegosaurus\n",
      "revolver\n",
      "gerenuk\n",
      "beaver\n",
      "barrel\n",
      "anchor\n",
      "saxophone\n",
      "dollar_bill\n",
      "nautilus\n",
      "elephant\n",
      "llama\n",
      "dragonfly\n",
      "cougar_face\n",
      "chandelier\n",
      "Motorbikes\n",
      "octopus\n",
      "pyramid\n",
      "cannon\n",
      "crayfish\n",
      "panda\n",
      "menorah\n",
      "stapler\n",
      "flamingo\n",
      "mayfly\n",
      "windsor_chair\n",
      "scissors\n",
      "crab\n",
      "car_side\n",
      "brain\n",
      "tick\n",
      "chair\n",
      "rhino\n",
      "dolphin\n",
      "rooster\n",
      "okapi\n",
      "pizza\n",
      "soccer_ball\n",
      "garfield\n",
      "ceiling_fan\n",
      "schooner\n",
      "joshua_tree\n",
      "crocodile\n",
      "brontosaurus\n",
      "euphonium\n",
      "minaret\n",
      "sunflower\n",
      "BACKGROUND_Google\n",
      "cellphone\n",
      "trilobite\n",
      "lotus\n",
      "accordion\n",
      "watch\n",
      "binocular\n",
      "camera\n",
      "electric_guitar\n"
     ]
    }
   ],
   "source": [
    "# This Python 3 environment comes with many helpful analytics libraries installed\n",
    "# It is defined by the kaggle/python Docker image: https://github.com/kaggle/docker-python\n",
    "# For example, here's several helpful packages to load\n",
    "\n",
    "import numpy as np # linear algebra\n",
    "import pandas as pd # data processing, CSV file I/O (e.g. pd.read_csv)\n",
    "import cv2\n",
    "from glob import glob\n",
    "# Input data files are available in the read-only \"../input/\" directory\n",
    "# For example, running this (by clicking run or pressing Shift+Enter) will list all files under the input directory\n",
    "image = []\n",
    "label = []\n",
    "import os\n",
    "for dirname, folders, filenames in os.walk('../input/caltech-101/caltech-101'):\n",
    "    for folder in folders:\n",
    "        print(folder)\n",
    "        #get the images in each of these folder\n",
    "        path = os.path.join(dirname,folder)\n",
    "        for image_path in glob(os.path.join(path, \"*.jpg\")):\n",
    "                im = cv2.imread(image_path, cv2.IMREAD_COLOR)\n",
    "                im = cv2.resize(im, (60,75), interpolation = cv2.INTER_AREA)\n",
    "                image.append(im)\n",
    "                label.append(folder)\n",
    "# You can write up to 20GB to the current directory (/kaggle/working/) that gets preserved as output when you create a version using \"Save & Run All\" \n",
    "# You can also write temporary files to /kaggle/temp/, but they won't be saved outside of the current session"
   ]
  },
  {
   "cell_type": "code",
   "execution_count": 4,
   "id": "747b65d2",
   "metadata": {
    "execution": {
     "iopub.execute_input": "2022-11-05T02:20:39.617443Z",
     "iopub.status.busy": "2022-11-05T02:20:39.617020Z",
     "iopub.status.idle": "2022-11-05T02:20:40.013127Z",
     "shell.execute_reply": "2022-11-05T02:20:40.011642Z"
    },
    "papermill": {
     "duration": 0.40975,
     "end_time": "2022-11-05T02:20:40.016314",
     "exception": false,
     "start_time": "2022-11-05T02:20:39.606564",
     "status": "completed"
    },
    "tags": []
   },
   "outputs": [
    {
     "name": "stdout",
     "output_type": "stream",
     "text": [
      "butterfly\n"
     ]
    },
    {
     "data": {
      "image/png": "[encoded data removed]",
      "text/plain": [
       "<Figure size 432x288 with 1 Axes>"
      ]
     },
     "metadata": {
      "needs_background": "light"
     },
     "output_type": "display_data"
    }
   ],
   "source": [
    "import matplotlib.pyplot as plt\n",
    "plt.imshow(image[590])\n",
    "print(label[590])"
   ]
  },
  {
   "cell_type": "code",
   "execution_count": 5,
   "id": "97dc1b64",
   "metadata": {
    "execution": {
     "iopub.execute_input": "2022-11-05T02:20:40.041206Z",
     "iopub.status.busy": "2022-11-05T02:20:40.040013Z",
     "iopub.status.idle": "2022-11-05T02:20:40.049960Z",
     "shell.execute_reply": "2022-11-05T02:20:40.048807Z"
    },
    "papermill": {
     "duration": 0.024886,
     "end_time": "2022-11-05T02:20:40.052361",
     "exception": false,
     "start_time": "2022-11-05T02:20:40.027475",
     "status": "completed"
    },
    "tags": []
   },
   "outputs": [],
   "source": [
    "from sklearn.model_selection import train_test_split\n",
    "trainx, testx, trainy, testy = train_test_split(image, label, \n",
    "                                            test_size=0.3)"
   ]
  },
  {
   "cell_type": "code",
   "execution_count": 6,
   "id": "225e4d8f",
   "metadata": {
    "execution": {
     "iopub.execute_input": "2022-11-05T02:20:40.077645Z",
     "iopub.status.busy": "2022-11-05T02:20:40.076629Z",
     "iopub.status.idle": "2022-11-05T02:20:56.660146Z",
     "shell.execute_reply": "2022-11-05T02:20:56.659151Z"
    },
    "papermill": {
     "duration": 16.599,
     "end_time": "2022-11-05T02:20:56.662794",
     "exception": false,
     "start_time": "2022-11-05T02:20:40.063794",
     "status": "completed"
    },
    "tags": []
   },
   "outputs": [],
   "source": [
    "def computeSIFT(data):\n",
    "    x = []\n",
    "    sift = cv2.SIFT_create()\n",
    "    for i in range(len(data)):\n",
    "        img = data[i]\n",
    "        step_size = 25\n",
    "        kp = [cv2.KeyPoint(x, y, step_size) for x in range(0, img.shape[0], step_size) for y in range(0, img.shape[1], step_size)]\n",
    "        dense_feat = sift.compute(img, kp)\n",
    "        x.append(dense_feat[1])\n",
    "    return x\n",
    "\n",
    "x_train = computeSIFT(trainx)\n",
    "x_test = computeSIFT(testx)\n",
    "\n",
    "all_train_desc = []\n",
    "for i in range(len(x_train)):\n",
    "    for j in range(x_train[i].shape[0]):\n",
    "        all_train_desc.append(x_train[i][j,:])\n",
    "\n",
    "all_train_desc = np.array(all_train_desc)"
   ]
  },
  {
   "cell_type": "code",
   "execution_count": 7,
   "id": "65a7b89c",
   "metadata": {
    "execution": {
     "iopub.execute_input": "2022-11-05T02:20:56.687688Z",
     "iopub.status.busy": "2022-11-05T02:20:56.685628Z",
     "iopub.status.idle": "2022-11-05T02:21:26.902567Z",
     "shell.execute_reply": "2022-11-05T02:21:26.901446Z"
    },
    "papermill": {
     "duration": 30.238349,
     "end_time": "2022-11-05T02:21:26.911941",
     "exception": false,
     "start_time": "2022-11-05T02:20:56.673592",
     "status": "completed"
    },
    "tags": []
   },
   "outputs": [
    {
     "data": {
      "text/plain": [
       "MiniBatchKMeans(batch_size=1000, max_iter=10000, n_clusters=200)"
      ]
     },
     "execution_count": 7,
     "metadata": {},
     "output_type": "execute_result"
    }
   ],
   "source": [
    "from sklearn.cluster import MiniBatchKMeans\n",
    "clusters = MiniBatchKMeans(n_clusters=200, max_iter=10000, batch_size=1000)\n",
    "clusters.fit(all_train_desc)"
   ]
  },
  {
   "cell_type": "code",
   "execution_count": 8,
   "id": "1533258f",
   "metadata": {
    "execution": {
     "iopub.execute_input": "2022-11-05T02:21:26.936708Z",
     "iopub.status.busy": "2022-11-05T02:21:26.936280Z",
     "iopub.status.idle": "2022-11-05T02:21:26.954300Z",
     "shell.execute_reply": "2022-11-05T02:21:26.953182Z"
    },
    "papermill": {
     "duration": 0.033441,
     "end_time": "2022-11-05T02:21:26.956602",
     "exception": false,
     "start_time": "2022-11-05T02:21:26.923161",
     "status": "completed"
    },
    "tags": []
   },
   "outputs": [],
   "source": [
    "import math\n",
    "def getImageFeaturesSPM(L, img, clusters, k):\n",
    "    W = img.shape[1]\n",
    "    H = img.shape[0]   \n",
    "    h = []\n",
    "    for l in range(L+1):\n",
    "        w_step = math.floor(W/(2**l))\n",
    "        h_step = math.floor(H/(2**l))\n",
    "        x, y = 0, 0\n",
    "        for _ in range(2**l):\n",
    "            x = 0\n",
    "            for _ in range(2**l):\n",
    "                desc = extractSIFT(img[y:y+h_step, x:x+w_step])                \n",
    "                predict = clusters.predict(desc)\n",
    "                histo = np.bincount(predict, minlength=k).reshape(1,-1).ravel()\n",
    "                weight = 2**(l-L)\n",
    "                h.append(weight*histo)\n",
    "                x = x + w_step\n",
    "            y = y + h_step\n",
    "            \n",
    "    hist = np.array(h).ravel().astype('float64')\n",
    "    dev = np.std(hist)\n",
    "    hist -= np.mean(hist)\n",
    "    hist /= dev\n",
    "    return hist\n",
    "\n",
    "def getImageFeaturesBOW(l, img, clusters, k):\n",
    "    W = img.shape[1]\n",
    "    H = img.shape[0]   \n",
    "    h = []\n",
    "    w_step = math.floor(W/(2**l))\n",
    "    h_step = math.floor(H/(2**l))\n",
    "    x, y = 0, 0\n",
    "    for _ in range(2**l):\n",
    "        x = 0\n",
    "        for _ in range(2**l):\n",
    "                desc = extractSIFT(img[y:y+h_step, x:x+w_step]) \n",
    "                predict = clusters.predict(desc)\n",
    "                histo = np.bincount(predict, minlength=k).reshape(1,-1).ravel()\n",
    "                h.append(histo)\n",
    "                x = x + w_step\n",
    "        y = y + h_step\n",
    "            \n",
    "    hist = np.array(h).ravel().astype('float64')\n",
    "    dev = np.std(hist)\n",
    "    hist -= np.mean(hist)\n",
    "    hist /= dev\n",
    "    return hist\n",
    "\n",
    "def getHistogramSPM(L, data, clusters, k):    \n",
    "    x = []\n",
    "    for i in range(len(data)):        \n",
    "        hist = getImageFeaturesSPM(L, data[i], clusters, k)        \n",
    "        x.append(hist)\n",
    "    return np.array(x)\n",
    "\n",
    "\n",
    "def getHistogramBOW(L, data, clusters, k):    \n",
    "    x = []\n",
    "    for i in range(len(data)):        \n",
    "        hist = getImageFeaturesBOW(L, data[i], clusters, k)        \n",
    "        x.append(hist)\n",
    "    return np.array(x)"
   ]
  },
  {
   "cell_type": "code",
   "execution_count": 9,
   "id": "432ff0b3",
   "metadata": {
    "execution": {
     "iopub.execute_input": "2022-11-05T02:21:26.980791Z",
     "iopub.status.busy": "2022-11-05T02:21:26.980368Z",
     "iopub.status.idle": "2022-11-05T06:34:20.693662Z",
     "shell.execute_reply": "2022-11-05T06:34:20.692558Z"
    },
    "papermill": {
     "duration": 15173.728848,
     "end_time": "2022-11-05T06:34:20.696479",
     "exception": false,
     "start_time": "2022-11-05T02:21:26.967631",
     "status": "completed"
    },
    "tags": []
   },
   "outputs": [
    {
     "name": "stdout",
     "output_type": "stream",
     "text": [
      "0\n",
      "1\n",
      "2\n"
     ]
    }
   ],
   "source": [
    "L = 3\n",
    "M = 200\n",
    "\n",
    "train_hist_spm = []\n",
    "test_hist_spm = []\n",
    "\n",
    "def extractSIFT(img):\n",
    "    sift = cv2.SIFT_create()\n",
    "    step_size = 25\n",
    "    kp = [cv2.KeyPoint(x, y, step_size) for x in range(0, img.shape[0], step_size) for y in range(0, img.shape[1], step_size)]\n",
    "    dense_feat = sift.compute(img, kp)\n",
    "    return dense_feat[1]\n",
    "\n",
    "for l in range(L):\n",
    "    print(l)\n",
    "    train_hist = getHistogramSPM(l, trainx, clusters, 200)\n",
    "    test_hist = getHistogramSPM(l, testx, clusters, 200)\n",
    "    train_hist_spm.append(train_hist)\n",
    "    test_hist_spm.append(test_hist)"
   ]
  },
  {
   "cell_type": "code",
   "execution_count": 10,
   "id": "765c882a",
   "metadata": {
    "execution": {
     "iopub.execute_input": "2022-11-05T06:34:20.720504Z",
     "iopub.status.busy": "2022-11-05T06:34:20.720133Z",
     "iopub.status.idle": "2022-11-05T09:48:42.506721Z",
     "shell.execute_reply": "2022-11-05T09:48:42.505723Z"
    },
    "papermill": {
     "duration": 11661.801266,
     "end_time": "2022-11-05T09:48:42.509351",
     "exception": false,
     "start_time": "2022-11-05T06:34:20.708085",
     "status": "completed"
    },
    "tags": []
   },
   "outputs": [
    {
     "name": "stdout",
     "output_type": "stream",
     "text": [
      "0\n",
      "1\n",
      "2\n"
     ]
    }
   ],
   "source": [
    "train_hist_bow = []\n",
    "test_hist_bow = []\n",
    "\n",
    "for l in range(L):\n",
    "    print(l)\n",
    "    train_hist = getHistogramBOW(l, trainx, clusters, 200)\n",
    "    test_hist = getHistogramBOW(l, testx, clusters, 200)\n",
    "    train_hist_bow.append(train_hist)\n",
    "    test_hist_bow.append(test_hist)"
   ]
  },
  {
   "cell_type": "code",
   "execution_count": 11,
   "id": "13cba52a",
   "metadata": {
    "execution": {
     "iopub.execute_input": "2022-11-05T09:48:42.533520Z",
     "iopub.status.busy": "2022-11-05T09:48:42.533169Z",
     "iopub.status.idle": "2022-11-05T10:09:53.205361Z",
     "shell.execute_reply": "2022-11-05T10:09:53.203912Z"
    },
    "papermill": {
     "duration": 1270.697448,
     "end_time": "2022-11-05T10:09:53.218160",
     "exception": false,
     "start_time": "2022-11-05T09:48:42.520712",
     "status": "completed"
    },
    "tags": []
   },
   "outputs": [
    {
     "name": "stdout",
     "output_type": "stream",
     "text": [
      "0.35459183673469385\n",
      "0.3753644314868805\n",
      "0.358600583090379\n"
     ]
    }
   ],
   "source": [
    "from sklearn.svm import LinearSVC\n",
    "from sklearn.model_selection import GridSearchCV\n",
    "\n",
    "def svc_param_selection(X_train, y_train, X_test, y_test):\n",
    "    for l in range(len(X_train)):\n",
    "        Cs = [0.007]\n",
    "        param_grid = {'C': Cs}\n",
    "        grid_search = GridSearchCV(LinearSVC(), param_grid)\n",
    "        grid_search.fit(X_train[l], y_train)\n",
    "        best_est = grid_search.best_estimator_\n",
    "        yhat = best_est.predict(X_test[l])\n",
    "        acc = accuracy_score(y_test, yhat)\n",
    "        print(acc)\n",
    "\n",
    "svc_param_selection(train_hist_bow , trainy, test_hist_bow, testy)"
   ]
  },
  {
   "cell_type": "code",
   "execution_count": 12,
   "id": "d5f5d0f0",
   "metadata": {
    "execution": {
     "iopub.execute_input": "2022-11-05T10:09:53.241709Z",
     "iopub.status.busy": "2022-11-05T10:09:53.241343Z",
     "iopub.status.idle": "2022-11-05T10:28:47.489080Z",
     "shell.execute_reply": "2022-11-05T10:28:47.486592Z"
    },
    "papermill": {
     "duration": 1134.269777,
     "end_time": "2022-11-05T10:28:47.499035",
     "exception": false,
     "start_time": "2022-11-05T10:09:53.229258",
     "status": "completed"
    },
    "tags": []
   },
   "outputs": [
    {
     "name": "stdout",
     "output_type": "stream",
     "text": [
      "0.35459183673469385\n",
      "0.40561224489795916\n",
      "0.42674927113702626\n"
     ]
    }
   ],
   "source": [
    "svc_param_selection(train_hist_spm , trainy, test_hist_spm, testy)"
   ]
  },
  {
   "cell_type": "code",
   "execution_count": 13,
   "id": "d1518edd",
   "metadata": {
    "execution": {
     "iopub.execute_input": "2022-11-05T10:28:47.524059Z",
     "iopub.status.busy": "2022-11-05T10:28:47.523448Z",
     "iopub.status.idle": "2022-11-05T11:48:44.560189Z",
     "shell.execute_reply": "2022-11-05T11:48:44.558840Z"
    },
    "papermill": {
     "duration": 4797.064755,
     "end_time": "2022-11-05T11:48:44.575273",
     "exception": false,
     "start_time": "2022-11-05T10:28:47.510518",
     "status": "completed"
    },
    "tags": []
   },
   "outputs": [
    {
     "name": "stdout",
     "output_type": "stream",
     "text": [
      "0.3432944606413994\n",
      "0.41180758017492713\n",
      "0.4260204081632653\n",
      "\n",
      "\n",
      "0.3432944606413994\n",
      "0.44533527696793\n",
      "0.4774052478134111\n",
      "\n",
      "\n"
     ]
    }
   ],
   "source": [
    "def get_accuracy(X_train, y_train, X_test, y_test):\n",
    "    accuracy = []\n",
    "    for l in range(len(X_train)):\n",
    "        model = SVC()\n",
    "        ovr = OneVsRestClassifier(model)\n",
    "        ovr.fit(X_train[l], y_train)\n",
    "        yhat = ovr.predict(X_test[l])\n",
    "        acc = accuracy_score(y_test, yhat)\n",
    "        accuracy.append(acc)\n",
    "        print(acc)\n",
    "    print(\"\\n\")\n",
    "    return accuracy\n",
    "\n",
    "acc_bow = get_accuracy(train_hist_bow , trainy, test_hist_bow, testy)\n",
    "acc_spm = get_accuracy(train_hist_spm , trainy, test_hist_spm, testy)"
   ]
  },
  {
   "cell_type": "code",
   "execution_count": null,
   "id": "a7302157",
   "metadata": {
    "papermill": {
     "duration": 0.011809,
     "end_time": "2022-11-05T11:48:44.599423",
     "exception": false,
     "start_time": "2022-11-05T11:48:44.587614",
     "status": "completed"
    },
    "tags": []
   },
   "outputs": [],
   "source": []
  },
  {
   "cell_type": "code",
   "execution_count": null,
   "id": "88f7de00",
   "metadata": {
    "papermill": {
     "duration": 0.011714,
     "end_time": "2022-11-05T11:48:44.623707",
     "exception": false,
     "start_time": "2022-11-05T11:48:44.611993",
     "status": "completed"
    },
    "tags": []
   },
   "outputs": [],
   "source": []
  }
 ],
 "metadata": {
  "kernelspec": {
   "display_name": "Python 3",
   "language": "python",
   "name": "python3"
  },
  "language_info": {
   "codemirror_mode": {
    "name": "ipython",
    "version": 3
   },
   "file_extension": ".py",
   "mimetype": "text/x-python",
   "name": "python",
   "nbconvert_exporter": "python",
   "pygments_lexer": "ipython3",
   "version": "3.7.12"
  },
  "papermill": {
   "default_parameters": {},
   "duration": 34154.989997,
   "end_time": "2022-11-05T11:48:47.524681",
   "environment_variables": {},
   "exception": null,
   "input_path": "__notebook__.ipynb",
   "output_path": "__notebook__.ipynb",
   "parameters": {},
   "start_time": "2022-11-05T02:19:32.534684",
   "version": "2.3.4"
  }
 },
 "nbformat": 4,
 "nbformat_minor": 5
}
